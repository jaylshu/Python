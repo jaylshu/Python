{
 "cells": [
  {
   "cell_type": "markdown",
   "id": "9a6790a5",
   "metadata": {},
   "source": [
    "### Hi - Thanks for reaching out! I'd be happy to answer your questions. Let me just prep a few things."
   ]
  },
  {
   "cell_type": "code",
   "execution_count": 1,
   "id": "0c6843fe",
   "metadata": {},
   "outputs": [],
   "source": [
    "import pandas as pd\n",
    "import matplotlib.pyplot as plt"
   ]
  },
  {
   "cell_type": "markdown",
   "id": "08db3ef3",
   "metadata": {},
   "source": [
    "### And let me load the data quickly as well."
   ]
  },
  {
   "cell_type": "code",
   "execution_count": 2,
   "id": "e53a468f",
   "metadata": {},
   "outputs": [],
   "source": [
    "df_orders = pd.read_csv('Data\\Simplified orders.zip')\n",
    "df_summarized_orders = pd.read_csv('Data\\summarized orders.csv')\n",
    "df_restaurants = pd.read_csv('Data\\Restaurants.csv')"
   ]
  },
  {
   "cell_type": "markdown",
   "id": "81372b64",
   "metadata": {},
   "source": [
    "### Now let's take a look at each of your questions one by one."
   ]
  },
  {
   "cell_type": "markdown",
   "id": "c2c492f5",
   "metadata": {},
   "source": [
    "### *1) In the data that I have for summarized orders by location by day, I'm only seeing 261 rows for Bryant Park. Is this because Bryant Park is closed on weekends? Can you do a quick check to see if that's the case?*"
   ]
  },
  {
   "cell_type": "markdown",
   "id": "e8929f7f",
   "metadata": {},
   "source": [
    "### Good hypothesis, let's see shall we?"
   ]
  },
  {
   "cell_type": "code",
   "execution_count": 3,
   "id": "b00ad53c",
   "metadata": {},
   "outputs": [
    {
     "data": {
      "text/html": [
       "<div>\n",
       "<style scoped>\n",
       "    .dataframe tbody tr th:only-of-type {\n",
       "        vertical-align: middle;\n",
       "    }\n",
       "\n",
       "    .dataframe tbody tr th {\n",
       "        vertical-align: top;\n",
       "    }\n",
       "\n",
       "    .dataframe thead th {\n",
       "        text-align: right;\n",
       "    }\n",
       "</style>\n",
       "<table border=\"1\" class=\"dataframe\">\n",
       "  <thead>\n",
       "    <tr style=\"text-align: right;\">\n",
       "      <th></th>\n",
       "      <th>location</th>\n",
       "      <th>day</th>\n",
       "      <th>number of orders</th>\n",
       "      <th>percentage of deliveries</th>\n",
       "    </tr>\n",
       "  </thead>\n",
       "  <tbody>\n",
       "    <tr>\n",
       "      <th>0</th>\n",
       "      <td>Bryant Park</td>\n",
       "      <td>2018-01-01</td>\n",
       "      <td>373</td>\n",
       "      <td>0.0</td>\n",
       "    </tr>\n",
       "    <tr>\n",
       "      <th>1</th>\n",
       "      <td>Bryant Park</td>\n",
       "      <td>2018-01-02</td>\n",
       "      <td>789</td>\n",
       "      <td>0.0</td>\n",
       "    </tr>\n",
       "    <tr>\n",
       "      <th>2</th>\n",
       "      <td>Bryant Park</td>\n",
       "      <td>2018-01-03</td>\n",
       "      <td>818</td>\n",
       "      <td>0.0</td>\n",
       "    </tr>\n",
       "    <tr>\n",
       "      <th>3</th>\n",
       "      <td>Bryant Park</td>\n",
       "      <td>2018-01-04</td>\n",
       "      <td>782</td>\n",
       "      <td>0.0</td>\n",
       "    </tr>\n",
       "    <tr>\n",
       "      <th>4</th>\n",
       "      <td>Bryant Park</td>\n",
       "      <td>2018-01-05</td>\n",
       "      <td>719</td>\n",
       "      <td>0.0</td>\n",
       "    </tr>\n",
       "  </tbody>\n",
       "</table>\n",
       "</div>"
      ],
      "text/plain": [
       "      location         day  number of orders  percentage of deliveries\n",
       "0  Bryant Park  2018-01-01               373                       0.0\n",
       "1  Bryant Park  2018-01-02               789                       0.0\n",
       "2  Bryant Park  2018-01-03               818                       0.0\n",
       "3  Bryant Park  2018-01-04               782                       0.0\n",
       "4  Bryant Park  2018-01-05               719                       0.0"
      ]
     },
     "execution_count": 3,
     "metadata": {},
     "output_type": "execute_result"
    }
   ],
   "source": [
    "df_summarized_orders.head()"
   ]
  },
  {
   "cell_type": "code",
   "execution_count": 4,
   "id": "2961034f",
   "metadata": {},
   "outputs": [],
   "source": [
    "df_summarized_orders.day = pd.to_datetime(df_summarized_orders.day)"
   ]
  },
  {
   "cell_type": "code",
   "execution_count": 5,
   "id": "5318113e",
   "metadata": {},
   "outputs": [],
   "source": [
    "df_summarized_orders.columns = ['LOCATION', 'DATE', 'NUM_ORDERS', 'PERC_DELIVERY']"
   ]
  },
  {
   "cell_type": "code",
   "execution_count": 6,
   "id": "662e9b10",
   "metadata": {},
   "outputs": [],
   "source": [
    "df_summarized_orders['DAY_OF_WEEK'] = df_summarized_orders['DATE'].dt.day_name()"
   ]
  },
  {
   "cell_type": "code",
   "execution_count": 7,
   "id": "d4b35192",
   "metadata": {},
   "outputs": [
    {
     "data": {
      "text/plain": [
       "Monday       0.203065\n",
       "Tuesday      0.199234\n",
       "Wednesday    0.199234\n",
       "Thursday     0.199234\n",
       "Friday       0.199234\n",
       "Name: DAY_OF_WEEK, dtype: float64"
      ]
     },
     "execution_count": 7,
     "metadata": {},
     "output_type": "execute_result"
    }
   ],
   "source": [
    "df_summarized_orders[df_summarized_orders.LOCATION == 'Bryant Park']['DAY_OF_WEEK'].value_counts(normalize = True)"
   ]
  },
  {
   "cell_type": "markdown",
   "id": "a68683cc",
   "metadata": {},
   "source": [
    "### Yes, you are correct. Bryant Park only has 261 records because it was never open on a weekend."
   ]
  },
  {
   "cell_type": "markdown",
   "id": "3d515b73",
   "metadata": {},
   "source": [
    "### *2) Which of our locations has the single day with the highest number of sales? Is there anything special about this day (e.g. is it a holiday or something)?*"
   ]
  },
  {
   "cell_type": "code",
   "execution_count": 8,
   "id": "85f72ec6",
   "metadata": {},
   "outputs": [
    {
     "data": {
      "text/html": [
       "<div>\n",
       "<style scoped>\n",
       "    .dataframe tbody tr th:only-of-type {\n",
       "        vertical-align: middle;\n",
       "    }\n",
       "\n",
       "    .dataframe tbody tr th {\n",
       "        vertical-align: top;\n",
       "    }\n",
       "\n",
       "    .dataframe thead th {\n",
       "        text-align: right;\n",
       "    }\n",
       "</style>\n",
       "<table border=\"1\" class=\"dataframe\">\n",
       "  <thead>\n",
       "    <tr style=\"text-align: right;\">\n",
       "      <th></th>\n",
       "      <th>LOCATION</th>\n",
       "      <th>DATE</th>\n",
       "      <th>NUM_ORDERS</th>\n",
       "      <th>PERC_DELIVERY</th>\n",
       "      <th>DAY_OF_WEEK</th>\n",
       "    </tr>\n",
       "  </thead>\n",
       "  <tbody>\n",
       "    <tr>\n",
       "      <th>1530</th>\n",
       "      <td>NYU</td>\n",
       "      <td>2018-06-24</td>\n",
       "      <td>1396</td>\n",
       "      <td>0.063754</td>\n",
       "      <td>Sunday</td>\n",
       "    </tr>\n",
       "  </tbody>\n",
       "</table>\n",
       "</div>"
      ],
      "text/plain": [
       "     LOCATION       DATE  NUM_ORDERS  PERC_DELIVERY DAY_OF_WEEK\n",
       "1530      NYU 2018-06-24        1396       0.063754      Sunday"
      ]
     },
     "execution_count": 8,
     "metadata": {},
     "output_type": "execute_result"
    }
   ],
   "source": [
    "df_summarized_orders.sort_values('NUM_ORDERS', ascending = False).head(1)"
   ]
  },
  {
   "cell_type": "markdown",
   "id": "cfdc49f0",
   "metadata": {},
   "source": [
    "### The NYU location had the single day with the highest number of sales on 6/24/18. This was the day of The Pride March and Pride Fest, two of the biggest NYC Pride events that just happen to be in the same neighborhood as our NYU location."
   ]
  },
  {
   "cell_type": "markdown",
   "id": "db5eacec",
   "metadata": {},
   "source": [
    "### *3) What if I wanted to see the day with the most sales at a particular location (e.g. Bryant Park)? Can you help me figure out which location has the most sales on a weekday?*"
   ]
  },
  {
   "cell_type": "markdown",
   "id": "f89b8051",
   "metadata": {},
   "source": [
    "### Yes, you can definitely find the answers to your questions by simply replacing the filter (currently set to Bryant Park) with whatever location you want to find the day with the most sales of."
   ]
  },
  {
   "cell_type": "code",
   "execution_count": 9,
   "id": "bec2a345",
   "metadata": {},
   "outputs": [
    {
     "data": {
      "text/html": [
       "<div>\n",
       "<style scoped>\n",
       "    .dataframe tbody tr th:only-of-type {\n",
       "        vertical-align: middle;\n",
       "    }\n",
       "\n",
       "    .dataframe tbody tr th {\n",
       "        vertical-align: top;\n",
       "    }\n",
       "\n",
       "    .dataframe thead th {\n",
       "        text-align: right;\n",
       "    }\n",
       "</style>\n",
       "<table border=\"1\" class=\"dataframe\">\n",
       "  <thead>\n",
       "    <tr style=\"text-align: right;\">\n",
       "      <th></th>\n",
       "      <th>LOCATION</th>\n",
       "      <th>DATE</th>\n",
       "      <th>NUM_ORDERS</th>\n",
       "      <th>PERC_DELIVERY</th>\n",
       "      <th>DAY_OF_WEEK</th>\n",
       "    </tr>\n",
       "  </thead>\n",
       "  <tbody>\n",
       "    <tr>\n",
       "      <th>250</th>\n",
       "      <td>Bryant Park</td>\n",
       "      <td>2018-12-17</td>\n",
       "      <td>1055</td>\n",
       "      <td>0.08436</td>\n",
       "      <td>Monday</td>\n",
       "    </tr>\n",
       "  </tbody>\n",
       "</table>\n",
       "</div>"
      ],
      "text/plain": [
       "        LOCATION       DATE  NUM_ORDERS  PERC_DELIVERY DAY_OF_WEEK\n",
       "250  Bryant Park 2018-12-17        1055        0.08436      Monday"
      ]
     },
     "execution_count": 9,
     "metadata": {},
     "output_type": "execute_result"
    }
   ],
   "source": [
    "df_summarized_orders[df_summarized_orders.LOCATION == 'Bryant Park'].sort_values('NUM_ORDERS', ascending = False).head(1)"
   ]
  },
  {
   "cell_type": "markdown",
   "id": "9c9da528",
   "metadata": {},
   "source": [
    "### As for which location has the most sales on a weekday, we can use the same code from the answer to your second question and just filter out Saturdays and Sundays."
   ]
  },
  {
   "cell_type": "code",
   "execution_count": 10,
   "id": "785189d4",
   "metadata": {},
   "outputs": [
    {
     "data": {
      "text/html": [
       "<div>\n",
       "<style scoped>\n",
       "    .dataframe tbody tr th:only-of-type {\n",
       "        vertical-align: middle;\n",
       "    }\n",
       "\n",
       "    .dataframe tbody tr th {\n",
       "        vertical-align: top;\n",
       "    }\n",
       "\n",
       "    .dataframe thead th {\n",
       "        text-align: right;\n",
       "    }\n",
       "</style>\n",
       "<table border=\"1\" class=\"dataframe\">\n",
       "  <thead>\n",
       "    <tr style=\"text-align: right;\">\n",
       "      <th></th>\n",
       "      <th>LOCATION</th>\n",
       "      <th>DATE</th>\n",
       "      <th>NUM_ORDERS</th>\n",
       "      <th>PERC_DELIVERY</th>\n",
       "      <th>DAY_OF_WEEK</th>\n",
       "    </tr>\n",
       "  </thead>\n",
       "  <tbody>\n",
       "    <tr>\n",
       "      <th>1406</th>\n",
       "      <td>NYU</td>\n",
       "      <td>2018-02-20</td>\n",
       "      <td>1371</td>\n",
       "      <td>0.068563</td>\n",
       "      <td>Tuesday</td>\n",
       "    </tr>\n",
       "  </tbody>\n",
       "</table>\n",
       "</div>"
      ],
      "text/plain": [
       "     LOCATION       DATE  NUM_ORDERS  PERC_DELIVERY DAY_OF_WEEK\n",
       "1406      NYU 2018-02-20        1371       0.068563     Tuesday"
      ]
     },
     "execution_count": 10,
     "metadata": {},
     "output_type": "execute_result"
    }
   ],
   "source": [
    "df_summarized_orders[(df_summarized_orders['DAY_OF_WEEK'] != 'Saturday') & (df_summarized_orders['DAY_OF_WEEK'] != 'Sunday')].sort_values('NUM_ORDERS', ascending = False).head(1)"
   ]
  },
  {
   "cell_type": "markdown",
   "id": "2ed0e311",
   "metadata": {},
   "source": [
    "### Looks like the location with the most weekday sales was also NYU, but on 2/20/18."
   ]
  },
  {
   "cell_type": "markdown",
   "id": "da68c4ef",
   "metadata": {},
   "source": [
    "### *4) One of the things I'm most excited about is expanding beyond eating in, to delivery, pick-up orders, and catering. Can you help me find the percentage of orders at each restaurant that are deliveries?  I want over all time - not just one particular day.*"
   ]
  },
  {
   "cell_type": "markdown",
   "id": "378a29ae",
   "metadata": {},
   "source": [
    "### Sure, I'll have to first add a column for delivery orders to calculate the %. Please see below."
   ]
  },
  {
   "cell_type": "code",
   "execution_count": 11,
   "id": "a1d07351",
   "metadata": {},
   "outputs": [],
   "source": [
    "df_summarized_orders['DELIVERY_ORDERS'] = df_summarized_orders.NUM_ORDERS * df_summarized_orders.PERC_DELIVERY"
   ]
  },
  {
   "cell_type": "code",
   "execution_count": 24,
   "id": "6398a0ae",
   "metadata": {},
   "outputs": [
    {
     "data": {
      "text/html": [
       "<div>\n",
       "<style scoped>\n",
       "    .dataframe tbody tr th:only-of-type {\n",
       "        vertical-align: middle;\n",
       "    }\n",
       "\n",
       "    .dataframe tbody tr th {\n",
       "        vertical-align: top;\n",
       "    }\n",
       "\n",
       "    .dataframe thead th {\n",
       "        text-align: right;\n",
       "    }\n",
       "</style>\n",
       "<table border=\"1\" class=\"dataframe\">\n",
       "  <thead>\n",
       "    <tr style=\"text-align: right;\">\n",
       "      <th></th>\n",
       "      <th>LOCATION</th>\n",
       "      <th>DATE</th>\n",
       "      <th>NUM_ORDERS</th>\n",
       "      <th>PERC_DELIVERY</th>\n",
       "      <th>DAY_OF_WEEK</th>\n",
       "      <th>DELIVERY_ORDERS</th>\n",
       "    </tr>\n",
       "  </thead>\n",
       "  <tbody>\n",
       "    <tr>\n",
       "      <th>2801</th>\n",
       "      <td>Williamsburg</td>\n",
       "      <td>2018-12-27</td>\n",
       "      <td>941</td>\n",
       "      <td>0.089267</td>\n",
       "      <td>Thursday</td>\n",
       "      <td>84.0</td>\n",
       "    </tr>\n",
       "    <tr>\n",
       "      <th>2802</th>\n",
       "      <td>Williamsburg</td>\n",
       "      <td>2018-12-28</td>\n",
       "      <td>941</td>\n",
       "      <td>0.127524</td>\n",
       "      <td>Friday</td>\n",
       "      <td>120.0</td>\n",
       "    </tr>\n",
       "    <tr>\n",
       "      <th>2803</th>\n",
       "      <td>Williamsburg</td>\n",
       "      <td>2018-12-29</td>\n",
       "      <td>942</td>\n",
       "      <td>0.093418</td>\n",
       "      <td>Saturday</td>\n",
       "      <td>88.0</td>\n",
       "    </tr>\n",
       "    <tr>\n",
       "      <th>2804</th>\n",
       "      <td>Williamsburg</td>\n",
       "      <td>2018-12-30</td>\n",
       "      <td>933</td>\n",
       "      <td>0.114684</td>\n",
       "      <td>Sunday</td>\n",
       "      <td>107.0</td>\n",
       "    </tr>\n",
       "    <tr>\n",
       "      <th>2805</th>\n",
       "      <td>Williamsburg</td>\n",
       "      <td>2018-12-31</td>\n",
       "      <td>957</td>\n",
       "      <td>0.114943</td>\n",
       "      <td>Monday</td>\n",
       "      <td>110.0</td>\n",
       "    </tr>\n",
       "  </tbody>\n",
       "</table>\n",
       "</div>"
      ],
      "text/plain": [
       "          LOCATION       DATE  NUM_ORDERS  PERC_DELIVERY DAY_OF_WEEK  \\\n",
       "2801  Williamsburg 2018-12-27         941       0.089267    Thursday   \n",
       "2802  Williamsburg 2018-12-28         941       0.127524      Friday   \n",
       "2803  Williamsburg 2018-12-29         942       0.093418    Saturday   \n",
       "2804  Williamsburg 2018-12-30         933       0.114684      Sunday   \n",
       "2805  Williamsburg 2018-12-31         957       0.114943      Monday   \n",
       "\n",
       "      DELIVERY_ORDERS  \n",
       "2801             84.0  \n",
       "2802            120.0  \n",
       "2803             88.0  \n",
       "2804            107.0  \n",
       "2805            110.0  "
      ]
     },
     "execution_count": 24,
     "metadata": {},
     "output_type": "execute_result"
    }
   ],
   "source": [
    "df_summarized_orders.tail()"
   ]
  },
  {
   "cell_type": "code",
   "execution_count": 13,
   "id": "4f151b31",
   "metadata": {},
   "outputs": [
    {
     "data": {
      "text/plain": [
       "LOCATION\n",
       "Bryant Park         6.864517\n",
       "Columbia           10.066186\n",
       "Flatiron           10.234305\n",
       "Midtown             6.880544\n",
       "NYU                10.051989\n",
       "Upper East Side    18.938113\n",
       "Upper West Side    18.968583\n",
       "Williamsburg       10.112688\n",
       "dtype: float64"
      ]
     },
     "execution_count": 13,
     "metadata": {},
     "output_type": "execute_result"
    }
   ],
   "source": [
    "100 * df_summarized_orders.groupby('LOCATION')['DELIVERY_ORDERS'].sum() / df_summarized_orders.groupby('LOCATION')['NUM_ORDERS'].sum()"
   ]
  },
  {
   "cell_type": "markdown",
   "id": "51f3bf53",
   "metadata": {},
   "source": [
    "### *5) Lastly, I need some demand analysis to help me figure out staffing. Can you help me understand what the distribution of orders looks like at each restaurant broken down by hour of day?*"
   ]
  },
  {
   "cell_type": "markdown",
   "id": "6745c399",
   "metadata": {},
   "source": [
    "### Sure, let's go through our orders data by restaurant, and plot histograms broken down by hour of day."
   ]
  },
  {
   "cell_type": "code",
   "execution_count": 14,
   "id": "355780a4",
   "metadata": {},
   "outputs": [
    {
     "data": {
      "text/html": [
       "<div>\n",
       "<style scoped>\n",
       "    .dataframe tbody tr th:only-of-type {\n",
       "        vertical-align: middle;\n",
       "    }\n",
       "\n",
       "    .dataframe tbody tr th {\n",
       "        vertical-align: top;\n",
       "    }\n",
       "\n",
       "    .dataframe thead th {\n",
       "        text-align: right;\n",
       "    }\n",
       "</style>\n",
       "<table border=\"1\" class=\"dataframe\">\n",
       "  <thead>\n",
       "    <tr style=\"text-align: right;\">\n",
       "      <th></th>\n",
       "      <th>RESTAURANT_ID</th>\n",
       "      <th>NAME</th>\n",
       "      <th>ADDRESS</th>\n",
       "      <th>LAT</th>\n",
       "      <th>LONG</th>\n",
       "      <th>OPENING_DATE</th>\n",
       "      <th>DELIVERY_START</th>\n",
       "    </tr>\n",
       "  </thead>\n",
       "  <tbody>\n",
       "    <tr>\n",
       "      <th>0</th>\n",
       "      <td>R10001</td>\n",
       "      <td>Columbia</td>\n",
       "      <td>2884 Broadway, New York, NY 10025</td>\n",
       "      <td>40.811470</td>\n",
       "      <td>-73.961230</td>\n",
       "      <td>8/9/2014</td>\n",
       "      <td>2017-01-01</td>\n",
       "    </tr>\n",
       "    <tr>\n",
       "      <th>1</th>\n",
       "      <td>R10002</td>\n",
       "      <td>Midtown</td>\n",
       "      <td>1379 6th Ave, New York, NY 10019</td>\n",
       "      <td>40.763640</td>\n",
       "      <td>-73.977960</td>\n",
       "      <td>3/19/2013</td>\n",
       "      <td>2018-05-01</td>\n",
       "    </tr>\n",
       "    <tr>\n",
       "      <th>5</th>\n",
       "      <td>R10003</td>\n",
       "      <td>Bryant Park</td>\n",
       "      <td>70 W 40th St, New York, NY 10018</td>\n",
       "      <td>40.752911</td>\n",
       "      <td>-73.983498</td>\n",
       "      <td>5/21/2013</td>\n",
       "      <td>2018-05-01</td>\n",
       "    </tr>\n",
       "    <tr>\n",
       "      <th>4</th>\n",
       "      <td>R10004</td>\n",
       "      <td>NYU</td>\n",
       "      <td>109 Macdougal St, New York, NY 10012</td>\n",
       "      <td>40.729930</td>\n",
       "      <td>-74.000820</td>\n",
       "      <td>1/10/2014</td>\n",
       "      <td>2017-01-01</td>\n",
       "    </tr>\n",
       "    <tr>\n",
       "      <th>2</th>\n",
       "      <td>R10005</td>\n",
       "      <td>Flatiron</td>\n",
       "      <td>40 W 25th St, New York, NY 10010</td>\n",
       "      <td>40.743600</td>\n",
       "      <td>-73.991070</td>\n",
       "      <td>11/14/2013</td>\n",
       "      <td>2016-03-05</td>\n",
       "    </tr>\n",
       "    <tr>\n",
       "      <th>6</th>\n",
       "      <td>R10006</td>\n",
       "      <td>Upper East Side</td>\n",
       "      <td>1045 Lexington Ave, New York, NY 10021</td>\n",
       "      <td>40.772010</td>\n",
       "      <td>-73.960780</td>\n",
       "      <td>5/29/2014</td>\n",
       "      <td>2017-08-02</td>\n",
       "    </tr>\n",
       "    <tr>\n",
       "      <th>7</th>\n",
       "      <td>R10007</td>\n",
       "      <td>Upper West Side</td>\n",
       "      <td>2140 Broadway, New York, NY 10023</td>\n",
       "      <td>40.775430</td>\n",
       "      <td>-73.982050</td>\n",
       "      <td>2/2/2015</td>\n",
       "      <td>2017-08-02</td>\n",
       "    </tr>\n",
       "    <tr>\n",
       "      <th>3</th>\n",
       "      <td>R10008</td>\n",
       "      <td>Williamsburg</td>\n",
       "      <td>45 S 3rd St, Brooklyn, NY 11249</td>\n",
       "      <td>40.713749</td>\n",
       "      <td>-73.965782</td>\n",
       "      <td>10/12/2015</td>\n",
       "      <td>2017-01-01</td>\n",
       "    </tr>\n",
       "  </tbody>\n",
       "</table>\n",
       "</div>"
      ],
      "text/plain": [
       "  RESTAURANT_ID             NAME                                 ADDRESS  \\\n",
       "0        R10001         Columbia       2884 Broadway, New York, NY 10025   \n",
       "1        R10002          Midtown        1379 6th Ave, New York, NY 10019   \n",
       "5        R10003      Bryant Park        70 W 40th St, New York, NY 10018   \n",
       "4        R10004              NYU    109 Macdougal St, New York, NY 10012   \n",
       "2        R10005         Flatiron        40 W 25th St, New York, NY 10010   \n",
       "6        R10006  Upper East Side  1045 Lexington Ave, New York, NY 10021   \n",
       "7        R10007  Upper West Side       2140 Broadway, New York, NY 10023   \n",
       "3        R10008     Williamsburg         45 S 3rd St, Brooklyn, NY 11249   \n",
       "\n",
       "         LAT       LONG OPENING_DATE DELIVERY_START  \n",
       "0  40.811470 -73.961230     8/9/2014     2017-01-01  \n",
       "1  40.763640 -73.977960    3/19/2013     2018-05-01  \n",
       "5  40.752911 -73.983498    5/21/2013     2018-05-01  \n",
       "4  40.729930 -74.000820    1/10/2014     2017-01-01  \n",
       "2  40.743600 -73.991070   11/14/2013     2016-03-05  \n",
       "6  40.772010 -73.960780    5/29/2014     2017-08-02  \n",
       "7  40.775430 -73.982050     2/2/2015     2017-08-02  \n",
       "3  40.713749 -73.965782   10/12/2015     2017-01-01  "
      ]
     },
     "execution_count": 14,
     "metadata": {},
     "output_type": "execute_result"
    }
   ],
   "source": [
    "df_restaurants.sort_values('RESTAURANT_ID')"
   ]
  },
  {
   "cell_type": "code",
   "execution_count": 15,
   "id": "7e53d86a",
   "metadata": {},
   "outputs": [],
   "source": [
    "df_orders.DATETIME = pd.to_datetime(df_orders.DATETIME)"
   ]
  },
  {
   "cell_type": "code",
   "execution_count": 30,
   "id": "ee7c3daf",
   "metadata": {},
   "outputs": [
    {
     "data": {
      "text/plain": [
       "<AxesSubplot:ylabel='Frequency'>"
      ]
     },
     "execution_count": 30,
     "metadata": {},
     "output_type": "execute_result"
    },
    {
     "data": {
      "image/png": "[encoded data removed]",
      "text/plain": [
       "<Figure size 432x288 with 1 Axes>"
      ]
     },
     "metadata": {
      "needs_background": "light"
     },
     "output_type": "display_data"
    }
   ],
   "source": [
    "#Columbia\n",
    "df_orders[df_orders.RESTAURANT_ID == 'R10001'].DATETIME.dt.hour.plot(kind = 'hist')"
   ]
  },
  {
   "cell_type": "code",
   "execution_count": 17,
   "id": "c46b2296",
   "metadata": {},
   "outputs": [
    {
     "data": {
      "text/plain": [
       "<AxesSubplot:ylabel='Frequency'>"
      ]
     },
     "execution_count": 17,
     "metadata": {},
     "output_type": "execute_result"
    },
    {
     "data": {
      "image/png": "[encoded data removed]",
      "text/plain": [
       "<Figure size 432x288 with 1 Axes>"
      ]
     },
     "metadata": {
      "needs_background": "light"
     },
     "output_type": "display_data"
    }
   ],
   "source": [
    "#Midtown\n",
    "df_orders[df_orders.RESTAURANT_ID == 'R10002'].DATETIME.dt.hour.plot(kind = 'hist')"
   ]
  },
  {
   "cell_type": "code",
   "execution_count": 18,
   "id": "c4a4f174",
   "metadata": {},
   "outputs": [
    {
     "data": {
      "text/plain": [
       "<AxesSubplot:ylabel='Frequency'>"
      ]
     },
     "execution_count": 18,
     "metadata": {},
     "output_type": "execute_result"
    },
    {
     "data": {
      "image/png": "[encoded data removed]",
      "text/plain": [
       "<Figure size 432x288 with 1 Axes>"
      ]
     },
     "metadata": {
      "needs_background": "light"
     },
     "output_type": "display_data"
    }
   ],
   "source": [
    "#Bryant Park\n",
    "df_orders[df_orders.RESTAURANT_ID == 'R10003'].DATETIME.dt.hour.plot(kind = 'hist')"
   ]
  },
  {
   "cell_type": "code",
   "execution_count": 19,
   "id": "a3c2e757",
   "metadata": {},
   "outputs": [
    {
     "data": {
      "text/plain": [
       "<AxesSubplot:ylabel='Frequency'>"
      ]
     },
     "execution_count": 19,
     "metadata": {},
     "output_type": "execute_result"
    },
    {
     "data": {
      "image/png": "[encoded data removed]",
      "text/plain": [
       "<Figure size 432x288 with 1 Axes>"
      ]
     },
     "metadata": {
      "needs_background": "light"
     },
     "output_type": "display_data"
    }
   ],
   "source": [
    "#NYU\n",
    "df_orders[df_orders.RESTAURANT_ID == 'R10004'].DATETIME.dt.hour.plot(kind = 'hist')"
   ]
  },
  {
   "cell_type": "code",
   "execution_count": 20,
   "id": "8309ce45",
   "metadata": {},
   "outputs": [
    {
     "data": {
      "text/plain": [
       "<AxesSubplot:ylabel='Frequency'>"
      ]
     },
     "execution_count": 20,
     "metadata": {},
     "output_type": "execute_result"
    },
    {
     "data": {
      "image/png": "[encoded data removed]",
      "text/plain": [
       "<Figure size 432x288 with 1 Axes>"
      ]
     },
     "metadata": {
      "needs_background": "light"
     },
     "output_type": "display_data"
    }
   ],
   "source": [
    "#Flatiron\n",
    "df_orders[df_orders.RESTAURANT_ID == 'R10005'].DATETIME.dt.hour.plot(kind = 'hist')"
   ]
  },
  {
   "cell_type": "code",
   "execution_count": 21,
   "id": "b288afa2",
   "metadata": {},
   "outputs": [
    {
     "data": {
      "text/plain": [
       "<AxesSubplot:ylabel='Frequency'>"
      ]
     },
     "execution_count": 21,
     "metadata": {},
     "output_type": "execute_result"
    },
    {
     "data": {
      "image/png": "[encoded data removed]",
      "text/plain": [
       "<Figure size 432x288 with 1 Axes>"
      ]
     },
     "metadata": {
      "needs_background": "light"
     },
     "output_type": "display_data"
    }
   ],
   "source": [
    "#Upper East Side\n",
    "df_orders[df_orders.RESTAURANT_ID == 'R10006'].DATETIME.dt.hour.plot(kind = 'hist')"
   ]
  },
  {
   "cell_type": "code",
   "execution_count": 22,
   "id": "735a9b16",
   "metadata": {},
   "outputs": [
    {
     "data": {
      "text/plain": [
       "<AxesSubplot:ylabel='Frequency'>"
      ]
     },
     "execution_count": 22,
     "metadata": {},
     "output_type": "execute_result"
    },
    {
     "data": {
      "image/png": "[encoded data removed]",
      "text/plain": [
       "<Figure size 432x288 with 1 Axes>"
      ]
     },
     "metadata": {
      "needs_background": "light"
     },
     "output_type": "display_data"
    }
   ],
   "source": [
    "#Upper West Side\n",
    "df_orders[df_orders.RESTAURANT_ID == 'R10007'].DATETIME.dt.hour.plot(kind = 'hist')"
   ]
  },
  {
   "cell_type": "code",
   "execution_count": 23,
   "id": "e73ba9bd",
   "metadata": {},
   "outputs": [
    {
     "data": {
      "text/plain": [
       "<AxesSubplot:ylabel='Frequency'>"
      ]
     },
     "execution_count": 23,
     "metadata": {},
     "output_type": "execute_result"
    },
    {
     "data": {
      "image/png": "[encoded data removed]",
      "text/plain": [
       "<Figure size 432x288 with 1 Axes>"
      ]
     },
     "metadata": {
      "needs_background": "light"
     },
     "output_type": "display_data"
    }
   ],
   "source": [
    "#Williamsburg\n",
    "df_orders[df_orders.RESTAURANT_ID == 'R10008'].DATETIME.dt.hour.plot(kind = 'hist')"
   ]
  },
  {
   "cell_type": "markdown",
   "id": "e9fcf68f",
   "metadata": {},
   "source": [
    "### Hope that helped. Let me know if you need anything else!"
   ]
  },
  {
   "cell_type": "code",
   "execution_count": null,
   "id": "b1e3409a",
   "metadata": {},
   "outputs": [],
   "source": []
  }
 ],
 "metadata": {
  "kernelspec": {
   "display_name": "Python 3 (ipykernel)",
   "language": "python",
   "name": "python3"
  },
  "language_info": {
   "codemirror_mode": {
    "name": "ipython",
    "version": 3
   },
   "file_extension": ".py",
   "mimetype": "text/x-python",
   "name": "python",
   "nbconvert_exporter": "python",
   "pygments_lexer": "ipython3",
   "version": "3.9.7"
  }
 },
 "nbformat": 4,
 "nbformat_minor": 5
}
